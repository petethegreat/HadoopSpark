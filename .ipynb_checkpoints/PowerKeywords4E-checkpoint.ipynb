{
 "cells": [
  {
   "cell_type": "markdown",
   "metadata": {},
   "source": [
    "# Power Keyword Analysis of 4th edition Dungeons and Dragons\n",
    "\n",
    "For a while now I've had a database containing power descriptions in html, scraped from the compendium. Recently I thought I'd extract the keywords from these powers and summarise these by class and level, as an exercise in running MapReduce tasks in Spark. Here I'd like to explore that data to see if I can find anything interesting.\n",
    "\n",
    "## loading/preprocessing data\n",
    "First the .csv file will be loaded into pandas"
   ]
  },
  {
   "cell_type": "code",
   "execution_count": 1,
   "metadata": {
    "scrolled": true
   },
   "outputs": [
    {
     "ename": "IOError",
     "evalue": "File ./powerKeywordCount.txt does not exist",
     "output_type": "error",
     "traceback": [
      "\u001b[0;31m---------------------------------------------------------------------------\u001b[0m",
      "\u001b[0;31mIOError\u001b[0m                                   Traceback (most recent call last)",
      "\u001b[0;32m<ipython-input-1-7b4917f3fa4b>\u001b[0m in \u001b[0;36m<module>\u001b[0;34m()\u001b[0m\n\u001b[1;32m     17\u001b[0m                       'count':int},\n\u001b[1;32m     18\u001b[0m                    \u001b[0mquotechar\u001b[0m\u001b[0;34m=\u001b[0m\u001b[0;34m\"'\"\u001b[0m\u001b[0;34m,\u001b[0m\u001b[0;34m\u001b[0m\u001b[0m\n\u001b[0;32m---> 19\u001b[0;31m                    quoting=csv.QUOTE_NONNUMERIC)\n\u001b[0m\u001b[1;32m     20\u001b[0m \u001b[0mdata\u001b[0m\u001b[0;34m.\u001b[0m\u001b[0mhead\u001b[0m\u001b[0;34m(\u001b[0m\u001b[0;34m)\u001b[0m\u001b[0;34m\u001b[0m\u001b[0m\n",
      "\u001b[0;32m/usr/local/lib/python2.7/dist-packages/pandas/io/parsers.pyc\u001b[0m in \u001b[0;36mparser_f\u001b[0;34m(filepath_or_buffer, sep, delimiter, header, names, index_col, usecols, squeeze, prefix, mangle_dupe_cols, dtype, engine, converters, true_values, false_values, skipinitialspace, skiprows, nrows, na_values, keep_default_na, na_filter, verbose, skip_blank_lines, parse_dates, infer_datetime_format, keep_date_col, date_parser, dayfirst, iterator, chunksize, compression, thousands, decimal, lineterminator, quotechar, quoting, escapechar, comment, encoding, dialect, tupleize_cols, error_bad_lines, warn_bad_lines, skipfooter, skip_footer, doublequote, delim_whitespace, as_recarray, compact_ints, use_unsigned, low_memory, buffer_lines, memory_map, float_precision)\u001b[0m\n\u001b[1;32m    653\u001b[0m                     skip_blank_lines=skip_blank_lines)\n\u001b[1;32m    654\u001b[0m \u001b[0;34m\u001b[0m\u001b[0m\n\u001b[0;32m--> 655\u001b[0;31m         \u001b[0;32mreturn\u001b[0m \u001b[0m_read\u001b[0m\u001b[0;34m(\u001b[0m\u001b[0mfilepath_or_buffer\u001b[0m\u001b[0;34m,\u001b[0m \u001b[0mkwds\u001b[0m\u001b[0;34m)\u001b[0m\u001b[0;34m\u001b[0m\u001b[0m\n\u001b[0m\u001b[1;32m    656\u001b[0m \u001b[0;34m\u001b[0m\u001b[0m\n\u001b[1;32m    657\u001b[0m     \u001b[0mparser_f\u001b[0m\u001b[0;34m.\u001b[0m\u001b[0m__name__\u001b[0m \u001b[0;34m=\u001b[0m \u001b[0mname\u001b[0m\u001b[0;34m\u001b[0m\u001b[0m\n",
      "\u001b[0;32m/usr/local/lib/python2.7/dist-packages/pandas/io/parsers.pyc\u001b[0m in \u001b[0;36m_read\u001b[0;34m(filepath_or_buffer, kwds)\u001b[0m\n\u001b[1;32m    403\u001b[0m \u001b[0;34m\u001b[0m\u001b[0m\n\u001b[1;32m    404\u001b[0m     \u001b[0;31m# Create the parser.\u001b[0m\u001b[0;34m\u001b[0m\u001b[0;34m\u001b[0m\u001b[0m\n\u001b[0;32m--> 405\u001b[0;31m     \u001b[0mparser\u001b[0m \u001b[0;34m=\u001b[0m \u001b[0mTextFileReader\u001b[0m\u001b[0;34m(\u001b[0m\u001b[0mfilepath_or_buffer\u001b[0m\u001b[0;34m,\u001b[0m \u001b[0;34m**\u001b[0m\u001b[0mkwds\u001b[0m\u001b[0;34m)\u001b[0m\u001b[0;34m\u001b[0m\u001b[0m\n\u001b[0m\u001b[1;32m    406\u001b[0m \u001b[0;34m\u001b[0m\u001b[0m\n\u001b[1;32m    407\u001b[0m     \u001b[0;32mif\u001b[0m \u001b[0mchunksize\u001b[0m \u001b[0;32mor\u001b[0m \u001b[0miterator\u001b[0m\u001b[0;34m:\u001b[0m\u001b[0;34m\u001b[0m\u001b[0m\n",
      "\u001b[0;32m/usr/local/lib/python2.7/dist-packages/pandas/io/parsers.pyc\u001b[0m in \u001b[0;36m__init__\u001b[0;34m(self, f, engine, **kwds)\u001b[0m\n\u001b[1;32m    760\u001b[0m             \u001b[0mself\u001b[0m\u001b[0;34m.\u001b[0m\u001b[0moptions\u001b[0m\u001b[0;34m[\u001b[0m\u001b[0;34m'has_index_names'\u001b[0m\u001b[0;34m]\u001b[0m \u001b[0;34m=\u001b[0m \u001b[0mkwds\u001b[0m\u001b[0;34m[\u001b[0m\u001b[0;34m'has_index_names'\u001b[0m\u001b[0;34m]\u001b[0m\u001b[0;34m\u001b[0m\u001b[0m\n\u001b[1;32m    761\u001b[0m \u001b[0;34m\u001b[0m\u001b[0m\n\u001b[0;32m--> 762\u001b[0;31m         \u001b[0mself\u001b[0m\u001b[0;34m.\u001b[0m\u001b[0m_make_engine\u001b[0m\u001b[0;34m(\u001b[0m\u001b[0mself\u001b[0m\u001b[0;34m.\u001b[0m\u001b[0mengine\u001b[0m\u001b[0;34m)\u001b[0m\u001b[0;34m\u001b[0m\u001b[0m\n\u001b[0m\u001b[1;32m    763\u001b[0m \u001b[0;34m\u001b[0m\u001b[0m\n\u001b[1;32m    764\u001b[0m     \u001b[0;32mdef\u001b[0m \u001b[0mclose\u001b[0m\u001b[0;34m(\u001b[0m\u001b[0mself\u001b[0m\u001b[0;34m)\u001b[0m\u001b[0;34m:\u001b[0m\u001b[0;34m\u001b[0m\u001b[0m\n",
      "\u001b[0;32m/usr/local/lib/python2.7/dist-packages/pandas/io/parsers.pyc\u001b[0m in \u001b[0;36m_make_engine\u001b[0;34m(self, engine)\u001b[0m\n\u001b[1;32m    964\u001b[0m     \u001b[0;32mdef\u001b[0m \u001b[0m_make_engine\u001b[0m\u001b[0;34m(\u001b[0m\u001b[0mself\u001b[0m\u001b[0;34m,\u001b[0m \u001b[0mengine\u001b[0m\u001b[0;34m=\u001b[0m\u001b[0;34m'c'\u001b[0m\u001b[0;34m)\u001b[0m\u001b[0;34m:\u001b[0m\u001b[0;34m\u001b[0m\u001b[0m\n\u001b[1;32m    965\u001b[0m         \u001b[0;32mif\u001b[0m \u001b[0mengine\u001b[0m \u001b[0;34m==\u001b[0m \u001b[0;34m'c'\u001b[0m\u001b[0;34m:\u001b[0m\u001b[0;34m\u001b[0m\u001b[0m\n\u001b[0;32m--> 966\u001b[0;31m             \u001b[0mself\u001b[0m\u001b[0;34m.\u001b[0m\u001b[0m_engine\u001b[0m \u001b[0;34m=\u001b[0m \u001b[0mCParserWrapper\u001b[0m\u001b[0;34m(\u001b[0m\u001b[0mself\u001b[0m\u001b[0;34m.\u001b[0m\u001b[0mf\u001b[0m\u001b[0;34m,\u001b[0m \u001b[0;34m**\u001b[0m\u001b[0mself\u001b[0m\u001b[0;34m.\u001b[0m\u001b[0moptions\u001b[0m\u001b[0;34m)\u001b[0m\u001b[0;34m\u001b[0m\u001b[0m\n\u001b[0m\u001b[1;32m    967\u001b[0m         \u001b[0;32melse\u001b[0m\u001b[0;34m:\u001b[0m\u001b[0;34m\u001b[0m\u001b[0m\n\u001b[1;32m    968\u001b[0m             \u001b[0;32mif\u001b[0m \u001b[0mengine\u001b[0m \u001b[0;34m==\u001b[0m \u001b[0;34m'python'\u001b[0m\u001b[0;34m:\u001b[0m\u001b[0;34m\u001b[0m\u001b[0m\n",
      "\u001b[0;32m/usr/local/lib/python2.7/dist-packages/pandas/io/parsers.pyc\u001b[0m in \u001b[0;36m__init__\u001b[0;34m(self, src, **kwds)\u001b[0m\n\u001b[1;32m   1580\u001b[0m         \u001b[0mkwds\u001b[0m\u001b[0;34m[\u001b[0m\u001b[0;34m'allow_leading_cols'\u001b[0m\u001b[0;34m]\u001b[0m \u001b[0;34m=\u001b[0m \u001b[0mself\u001b[0m\u001b[0;34m.\u001b[0m\u001b[0mindex_col\u001b[0m \u001b[0;32mis\u001b[0m \u001b[0;32mnot\u001b[0m \u001b[0mFalse\u001b[0m\u001b[0;34m\u001b[0m\u001b[0m\n\u001b[1;32m   1581\u001b[0m \u001b[0;34m\u001b[0m\u001b[0m\n\u001b[0;32m-> 1582\u001b[0;31m         \u001b[0mself\u001b[0m\u001b[0;34m.\u001b[0m\u001b[0m_reader\u001b[0m \u001b[0;34m=\u001b[0m \u001b[0mparsers\u001b[0m\u001b[0;34m.\u001b[0m\u001b[0mTextReader\u001b[0m\u001b[0;34m(\u001b[0m\u001b[0msrc\u001b[0m\u001b[0;34m,\u001b[0m \u001b[0;34m**\u001b[0m\u001b[0mkwds\u001b[0m\u001b[0;34m)\u001b[0m\u001b[0;34m\u001b[0m\u001b[0m\n\u001b[0m\u001b[1;32m   1583\u001b[0m \u001b[0;34m\u001b[0m\u001b[0m\n\u001b[1;32m   1584\u001b[0m         \u001b[0;31m# XXX\u001b[0m\u001b[0;34m\u001b[0m\u001b[0;34m\u001b[0m\u001b[0m\n",
      "\u001b[0;32mpandas/_libs/parsers.pyx\u001b[0m in \u001b[0;36mpandas._libs.parsers.TextReader.__cinit__ (pandas/_libs/parsers.c:4209)\u001b[0;34m()\u001b[0m\n",
      "\u001b[0;32mpandas/_libs/parsers.pyx\u001b[0m in \u001b[0;36mpandas._libs.parsers.TextReader._setup_parser_source (pandas/_libs/parsers.c:8873)\u001b[0;34m()\u001b[0m\n",
      "\u001b[0;31mIOError\u001b[0m: File ./powerKeywordCount.txt does not exist"
     ]
    }
   ],
   "source": [
    "import csv\n",
    "import pandas as pd\n",
    "import numpy as np\n",
    "import matplotlib.pyplot as plt\n",
    "import matplotlib\n",
    "import seaborn as sns\n",
    "sns.set()\n",
    "%matplotlib inline\n",
    "plt.rcParams[\"figure.figsize\"] = [10,10]\n",
    "\n",
    "\n",
    "data = pd.read_csv('./powerKeywordCount.txt',\n",
    "                   names=['class_level','keyword','count'],\n",
    "                   dtype={\n",
    "                      'class_level':str,\n",
    "                      'keyword':str,\n",
    "                      'count':int},\n",
    "                   quotechar=\"'\",\n",
    "                   quoting=csv.QUOTE_NONNUMERIC)\n",
    "data.head()\n"
   ]
  },
  {
   "cell_type": "markdown",
   "metadata": {},
   "source": [
    "The \"Class_level\" field contains the class that the power belongs to and the level of the power. Merging these two in this way was handy for the MapReduce step, but not super convenient here"
   ]
  },
  {
   "cell_type": "code",
   "execution_count": null,
   "metadata": {
    "scrolled": false
   },
   "outputs": [],
   "source": [
    "import string\n",
    "import re\n",
    "there = re.compile(r'(?P<class>[a-zA-Z\\'_\\-]+?)_(?P<level>[0-9]+)')\n",
    "def getClassLevel(instr):\n",
    "    m = there.search(instr)\n",
    "    thelevel =-1\n",
    "    theclass = 'dunno'\n",
    "    if m:\n",
    "        thelevel = int(m.group('level'))\n",
    "        theclass = m.group('class').replace('_',' ')\n",
    "        \n",
    "    return theclass, thelevel\n",
    "\n",
    "data['class'],data['level'] = zip(*data['class_level'].map(getClassLevel))\n",
    "data.head()\n",
    "\n"
   ]
  },
  {
   "cell_type": "markdown",
   "metadata": {},
   "source": [
    "I'm mainly interested in attack powers, which occur at specific character levels. Utility powers occur at even levels, so I'll ignore those. "
   ]
  },
  {
   "cell_type": "code",
   "execution_count": null,
   "metadata": {},
   "outputs": [],
   "source": [
    "# aggregate attack powers\n",
    "attackpowers = data[~data.level.isin([2,6,10,12,16,20,22,26,30])]\n",
    "attackpowers = attackpowers[['class', 'level', 'keyword', 'count']]\n",
    "\n",
    "# sum keyword totals over all levels\n",
    "attacktotals = attackpowers[['class','keyword','count']]\\\n",
    "    .groupby(['class','keyword'])\\\n",
    "    .agg('sum') \\\n",
    "    .reset_index()\n",
    "# attacktotals.head()"
   ]
  },
  {
   "cell_type": "markdown",
   "metadata": {},
   "source": [
    "## PHB Class options\n",
    "How well supported are the original Player's Handbook (PHB) classes? One metric is the total number of powers available, though this completely neglects feat support (which is beyond the scope of the data considered here). The \"power source\" for each class (arcane, divine, or martial in these cases) will also be considered here."
   ]
  },
  {
   "cell_type": "code",
   "execution_count": null,
   "metadata": {
    "scrolled": true
   },
   "outputs": [],
   "source": [
    "# PHB classes\n",
    "classes = ['Fighter','Cleric','Rogue','Wizard','Ranger','Paladin','Warlock','Warlord']\n",
    "sources = {}\n",
    "colours = {}\n",
    "for theclass in ['Fighter','Rogue','Ranger','Warlord']:\n",
    "    sources[theclass] = 'Martial'\n",
    "    colours[theclass] = sns.xkcd_rgb['merlot']\n",
    "\n",
    "for theclass in ['Wizard','Warlock']:\n",
    "    sources[theclass] = 'Arcane'\n",
    "    colours[theclass] = sns.xkcd_rgb['blurple']\n",
    "\n",
    "for theclass in ['Cleric','Paladin']:\n",
    "    sources[theclass] = 'Divine'\n",
    "    colours[theclass] = sns.xkcd_rgb['yellowish orange']\n",
    "\n",
    "    \n",
    "# get the total power counts for these, in descending order\n",
    "classtotals = attacktotals[\n",
    "    (attacktotals['class'].isin(classes)) & \\\n",
    "    (attacktotals['keyword'] == 'total')] \\\n",
    "    .sort_values(by=['count'],ascending=False)\n",
    "# get the data columns as arrays\n",
    "counts = classtotals['count'].values\n",
    "classlabels = classtotals['class'].values\n",
    "# colour bars based on power source\n",
    "barcolours = [colours[tc] for tc in classlabels]\n",
    "# colour the bars based on counts\n",
    "# thecmap = plt.get_cmap('viridis')\n",
    "\n",
    "# make the plot\n",
    "fig,ax = plt.subplots();\n",
    "ax.bar(np.arange(len(classes)),counts,color=barcolours);\n",
    "ax.set_ylabel('# Powers');\n",
    "ax.set_xlabel('class');\n",
    "ax.set_title('Power numbers for PHB classes');\n",
    "ax.set_xticks(np.arange(len(classes)));\n",
    "ax.set_xticklabels(classlabels);\n"
   ]
  },
  {
   "cell_type": "markdown",
   "metadata": {},
   "source": [
    "The plot above shows the total number of attack powers (summed over all levels) for each of the character classes covered by the PHB. Martial classes are coloured \"merlot\", arcane classes \"blurple\", and divine classes \"yellowish orange\" (thanks [xkcd](https://xkcd.com/color/rgb/))\n",
    "This suprised me: I was expecting Fighters to have the most power options. My first 4E character was a fighter, and I played it from the early days of 4th edition. In addition to the PHB, fighter options appeared in a number of published sourcebooks (Martial Power 1 and 2), as well as numerous dragon magazine articles.\n",
    "\n",
    "Fighters do have significantly more powers than the other martial classes, with ranger, warlord and rogue numbers being fairly similar. Divine classes have either the most or least options available (Paladins got shafted). Maybe there are  domain-related options available to Clerics, but not Paladins? As mentioned above, options for martial classes were included in two published \"Martial Power\" sourcebooks, while the Divine and Arcane power sources received a single sourcebook each. That being said, there are twice as many classes covered by the Martial power source, so maybe we should expect the content per sourcebook per class to be equal accross the PHB classes. "
   ]
  },
  {
   "cell_type": "markdown",
   "metadata": {},
   "source": [
    "## Bursts and Blasts amongst defenders\n",
    "\n",
    "Powers can have different areas of effect. Attacks can be either melee, ranged, or cover an area (burst or blast, close or area). Other \"attack\" powers may confer status or stances on the character, such as a stance or a form, and thus have a \"personal\" effect. I wanted to see if there were any patterns in power Area of Effect (AoE) across defender classes.\n",
    "\n"
   ]
  },
  {
   "cell_type": "code",
   "execution_count": null,
   "metadata": {},
   "outputs": [],
   "source": [
    "# Compare fraction of burst/melee/ranged powers by defender type\n",
    "defenders = ['Fighter','Warden','Swordmage','Battlemind','Paladin']\n",
    "\n",
    "kw = ['melee','ranged','burst','blast','personal']\n",
    "explode = [0.0,0.05,0.10,0.05,0.2]\n",
    "\n",
    "for plt_index in range(0,len(defenders)):\n",
    "    theclass = defenders[plt_index]\n",
    "    powers = attacktotals[attacktotals['class'] == theclass]\n",
    "    powers = powers[powers['keyword'].isin(kw) ]\n",
    "    plt.subplot(2,3,plt_index+1)\n",
    "    plt.pie(powers['count'].values,labels=powers['keyword'].values,autopct='%1.1f%%')\n",
    "    plt.title('{pclass} AoE'.format(pclass=theclass))\n",
    "# FP[FP['keyword'].isin(kw) ]\n"
   ]
  },
  {
   "cell_type": "markdown",
   "metadata": {},
   "source": [
    "Defender classes tend to favor melee powers. Wardens have a nice selection of AoE powers, with about 20% being either bursts or blasts. Wardens tend to have a lot of forms. These apply some sort of transformation to the warden, and generally also grant access to another attack power (which may have a melee or burst/blast keyword) that was not considered in the above plot. \n",
    "\n",
    "Paladins and Swordmages get a significant number of ranged attacks. These classes can use implements for spell-type effects, and these ranged powers are probably interrupts intended to protect other party members (e.g. dimensional vortex, price of cowardice). Fighters and Battleminds are 85-90% melee, while other classes have ~20% bursts/blasts, with Swordmages and Paladins also getting some ranged options."
   ]
  },
  {
   "cell_type": "markdown",
   "metadata": {},
   "source": [
    "## Weapliments\n",
    "Certain character classes make use of both weapons (for physical attacks) and implements (for magical/divine \"spell\" type attacks). Certain classes (swordmages, for instance) can use weapons as implements. It might be interesting to look at the fraction of implement based powers for these classes across character levels. Ideally, I would look at the implement/weapon ratio, but for weapon powers the keyword \"weapon\" may show up twice (martial weapon, melee weapon) or once (martial weapon, close burst X) in the keyword block, which complicates things."
   ]
  },
  {
   "cell_type": "code",
   "execution_count": null,
   "metadata": {},
   "outputs": [],
   "source": [
    "# plot ratio of implement/total power numbers\n",
    "# select rows where keyword is either 'implement' or 'total'\n",
    "slimmed = attackpowers.loc[ attackpowers['keyword'].isin(['implement','total'])]\n",
    "# classes we are interested in (use both weapons and implements)       \n",
    "classes = ['Swordmage', 'Avenger','Bard','Paladin','Druid']\n",
    "# select data for these classes\n",
    "classdata = slimmed[slimmed['class'].isin(classes)] \n",
    "# Create a pivot table\n",
    "# want a row for each class/level combination\n",
    "# want columns for implement and total (values from 'count' column)\n",
    "ptable = pd.pivot_table(\n",
    "    classdata,\n",
    "    values='count',\n",
    "    index=['class','level'],\n",
    "    columns='keyword',\n",
    "    fill_value=0)\n",
    "# compute the implement/total ratio\n",
    "ptable['ratio'] = ptable['implement']/ptable['total']\n",
    "\n",
    "colorno=0\n",
    "\n",
    "for pclass in classes:\n",
    "    color='C{c}'.format(c=colorno)\n",
    "    colorno+=1\n",
    "    plotdata = ptable.loc[pclass,'ratio'].reset_index().values\n",
    "    plt.plot(plotdata[:,0],plotdata[:,1]*100.0,color=color,label=pclass);\n",
    "plt.legend();\n",
    "plt.xlabel('Level');\n",
    "plt.ylabel('Implement Power Fraction (%)');\n",
    "plt.title('Fraction of Implement Powers by Character Level');\n"
   ]
  },
  {
   "cell_type": "markdown",
   "metadata": {},
   "source": [
    "Druids are almost entirely implement based (if I'd played a druid before I might have known this). I'm guessing the non-implement powers relate to beast forms or something. Paladins tend to have the fewest implement attacks, although generally similar to Swordmages, the other defender class considered here. It's interesting to see all the non-druid classes having a similar fraction of implement powers at level 17, although this is a substantial drop for both the Avenger and Bard classes."
   ]
  }
 ],
 "metadata": {
  "kernelspec": {
   "display_name": "Python 2",
   "language": "python",
   "name": "python2"
  },
  "language_info": {
   "codemirror_mode": {
    "name": "ipython",
    "version": 2
   },
   "file_extension": ".py",
   "mimetype": "text/x-python",
   "name": "python",
   "nbconvert_exporter": "python",
   "pygments_lexer": "ipython2",
   "version": "2.7.12"
  }
 },
 "nbformat": 4,
 "nbformat_minor": 2
}
